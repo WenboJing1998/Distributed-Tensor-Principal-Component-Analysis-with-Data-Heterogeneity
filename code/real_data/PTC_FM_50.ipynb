{
 "cells": [
  {
   "cell_type": "code",
   "execution_count": 1,
   "metadata": {},
   "outputs": [
    {
     "name": "stderr",
     "output_type": "stream",
     "text": [
      "/Library/Frameworks/Python.framework/Versions/3.12/lib/python3.12/site-packages/tqdm/auto.py:21: TqdmWarning: IProgress not found. Please update jupyter and ipywidgets. See https://ipywidgets.readthedocs.io/en/stable/user_install.html\n",
      "  from .autonotebook import tqdm as notebook_tqdm\n"
     ]
    }
   ],
   "source": [
    "import torch\n",
    "from torch_geometric.datasets import TUDataset\n",
    "import random\n",
    "import numpy as np\n",
    "import tensorly as tl\n",
    "import matplotlib.pyplot as plt"
   ]
  },
  {
   "cell_type": "code",
   "execution_count": 2,
   "metadata": {},
   "outputs": [
    {
     "data": {
      "text/plain": [
       "torch.Size([349, 5, 50, 50])"
      ]
     },
     "execution_count": 2,
     "metadata": {},
     "output_type": "execute_result"
    }
   ],
   "source": [
    "# Load the dataset\n",
    "PTC_FM = torch.load(\"PTC_FM_50_PI.pt\")\n",
    "PTC_FM.shape"
   ]
  },
  {
   "cell_type": "code",
   "execution_count": 3,
   "metadata": {},
   "outputs": [
    {
     "name": "stderr",
     "output_type": "stream",
     "text": [
      "Downloading https://www.chrsmrrs.com/graphkerneldatasets/PTC_FM.zip\n",
      "Processing...\n",
      "Done!\n"
     ]
    }
   ],
   "source": [
    "# Download the labels\n",
    "dataset = 'PTC_FM'\n",
    "graphs = TUDataset(root='/tmp/' + dataset, name=dataset)\n",
    "y = [graph.y for graph in graphs]"
   ]
  },
  {
   "cell_type": "code",
   "execution_count": 4,
   "metadata": {},
   "outputs": [],
   "source": [
    "# Construct the tensor list\n",
    "calss_0_id = np.array(y).reshape(-1)==0\n",
    "PTC_FM_0 = PTC_FM[calss_0_id, :, :, :]\n",
    "PTC_FM_list = [np.array(PTC_FM_0[i, :, :, :]) for i in range(PTC_FM_0.shape[0])]"
   ]
  },
  {
   "cell_type": "code",
   "execution_count": 5,
   "metadata": {},
   "outputs": [],
   "source": [
    "# Determine the rank of each mode\n",
    "T_list_r = PTC_FM_list\n",
    "L = len(T_list_r)\n",
    "T_list = T_list_r \n",
    "J = 3\n",
    "ranks = []\n",
    "ranks_U = []\n",
    "delta_0 = 0.1\n",
    "\n",
    "for j in range(J):\n",
    "    W_bar = 0\n",
    "    ranks_j = []\n",
    "    for l in range(len(T_list)):\n",
    "        W_l, Sigma_l, _ = np.linalg.svd(tl.unfold(T_list[l], j), full_matrices=False)\n",
    "        ranks_j_l = np.argmax(Sigma_l[:-1] / Sigma_l[1:]) + 1\n",
    "        ranks_j.append(ranks_j_l)\n",
    "        W_bar += (1 / L) * W_l[:, :ranks_j_l] @ np.transpose(W_l[:, :ranks_j_l])\n",
    "    \n",
    "    ranks_U.append(np.sum(np.linalg.svd(W_bar, full_matrices=False)[1] > (1 - delta_0)))\n",
    "    ranks.append(ranks_j)"
   ]
  },
  {
   "cell_type": "code",
   "execution_count": 6,
   "metadata": {},
   "outputs": [],
   "source": [
    "# real_data: conduct distributed tensor PCA on a tensor dataset to reproduce the results in the real data analysis. \n",
    "# Three different methods are implemented for comparison: \"distributed\" (our proposed method), \"single,\"\n",
    "# and \"pooled.\" Descriptions for the three methods are provided in the paper.\n",
    "# Input: \n",
    "#        tensor_list:   (list) tensors to be analysed.\n",
    "#        L_seq:         (numpy array) the number(s) of training tensors.\n",
    "#        test_size:     (integer) the size of test set.\n",
    "#        rank:          (numpy array) the prespecified rank for the common component U of each mode.\n",
    "#        reps:          (integer) the number of repeats. Defaults to be 200.\n",
    "#        seed:          (integer) the random seed. Defaults to be 1.\n",
    "# Output:\n",
    "#        res:           (numpy array) a matrix containing all the results needed. The size is the len(L_seq) * 6. \n",
    "#                       Each row records the results for a training size L, composed of six real numbers: the mean \n",
    "#                       of the reconstruction errors of the distributed, single, and pooled methods and the standard \n",
    "#                       deviation of those reconstruction errors. The mean and standard deviation are taken over the\n",
    "#                       multiple independent repeats.\n",
    "\n",
    "def real_data(tensor_list, L_seq, test_size, rank, reps=200, seed=1):\n",
    "    random.seed(seed)\n",
    "    res = []\n",
    "    T_list_copy = tensor_list.copy()\n",
    "\n",
    "    for L in L_seq:\n",
    "        print(f\"Begin repetitions for L={L}\")\n",
    "        res_rep = []\n",
    "        for rep in range(reps):\n",
    "             # Train-test split\n",
    "            random.shuffle(T_list_copy)\n",
    "            T_list_test = T_list_copy[(-test_size): ]\n",
    "            T_train = T_list_copy[:(-test_size)]\n",
    "            T_list = random.sample(T_train, L)\n",
    "\n",
    "            # Initialization\n",
    "            r = rank\n",
    "            U_inits = [tl.decomposition.tucker(T, rank=r)[1] for T in T_list]\n",
    "            J = len(T_list[0].shape)\n",
    "            modes_all = list(range(J))\n",
    "            U_hats = []\n",
    "\n",
    "            # Obtain a local Estimator on each tensor\n",
    "            for l in range(L):\n",
    "                U_hat_l = []\n",
    "                for j in range(J):\n",
    "                    if(j!=(J-1)):\n",
    "                        M = tl.unfold(tl.tenalg.multi_mode_dot(T_list[l], \n",
    "                                                [np.transpose(U) for U in (U_inits[l][:j] + U_inits[l][(j+1):])], \n",
    "                                                modes=modes_all[:j]+modes_all[(j+1): ]), j)\n",
    "                    else:\n",
    "                        M = tl.unfold(tl.tenalg.multi_mode_dot(T_list[l], \n",
    "                                                [np.transpose(U) for U in U_inits[l][:j]], \n",
    "                                                modes=modes_all[:j]), j)\n",
    "                    \n",
    "                    U_hat_jl = np.linalg.svd(M, full_matrices=False)[0][:, :r[j]]\n",
    "                    \n",
    "                    U_hat_l.append(U_hat_jl)\n",
    "\n",
    "                U_hats.append(U_hat_l)\n",
    "\n",
    "            # Aggregate the local estimators\n",
    "            U_estmators = []\n",
    "            for j in range(J):\n",
    "                U_aggregate = 0\n",
    "                for l in range(L):\n",
    "                    U_aggregate += U_hats[l][j] @ np.transpose(U_hats[l][j]) / L\n",
    "                U_est = np.linalg.svd(U_aggregate, full_matrices=False)[0][:, :r[j]]\n",
    "                U_estmators.append(U_est)\n",
    "\n",
    "            # pooled estimator - for comparison\n",
    "            T_pooled = 0\n",
    "            for T in T_list:\n",
    "                T_pooled += (1/L) * T\n",
    "            U_pooled = tl.decomposition.tucker(T_pooled, rank=r)[1]\n",
    "\n",
    "            # Calculate the reconstruction errors for the single, pooled, and distributed method\n",
    "            errors_dist = np.zeros(len(T_list_test))\n",
    "            errors_single = np.zeros((len(T_list), len(T_list_test)))\n",
    "            errors_pooled = np.zeros(len(T_list_test))\n",
    "\n",
    "            for l2 in range(len(T_list_test)):\n",
    "                T_hat_dist = tl.tenalg.multi_mode_dot(T_list_test[l2], [U @ np.transpose(U) for U in U_estmators], modes=list(range(J)))\n",
    "                errors_dist[l2] = tl.norm(T_hat_dist - T_list_test[l2]) / tl.norm(T_list_test[l2])\n",
    "\n",
    "                T_hat_pooled = tl.tenalg.multi_mode_dot(T_list_test[l2], [U @ np.transpose(U) for U in U_pooled], modes=list(range(J)))\n",
    "                errors_pooled[l2] = tl.norm(T_hat_pooled - T_list_test[l2]) / tl.norm(T_list_test[l2])\n",
    "\n",
    "                for l1 in range(len(T_list)):\n",
    "                    T_hat_single = tl.tenalg.multi_mode_dot(T_list_test[l2], [U @ np.transpose(U) for U in U_inits[l1]], \n",
    "                                        modes=list(range(J)))\n",
    "                    errors_single[l1, l2] = tl.norm(T_hat_single - T_list_test[l2]) / tl.norm(T_list_test[l2])\n",
    "            \n",
    "            res_rep.append([np.mean(errors_dist), np.mean(errors_single), np.mean(errors_pooled)])\n",
    "    \n",
    "        res_rep = np.array(res_rep)\n",
    "\n",
    "        print(f\"The reconstruction error for distributed, single, and pooled are {np.mean(res_rep, axis=0)}, respectively.\")\n",
    "    \n",
    "        res.append(np.hstack((np.mean(res_rep, axis=0), np.std(res_rep, axis=0))))\n",
    "\n",
    "    return(np.array(res))\n"
   ]
  },
  {
   "cell_type": "code",
   "execution_count": 7,
   "metadata": {},
   "outputs": [
    {
     "name": "stdout",
     "output_type": "stream",
     "text": [
      "Begin repetitions for L=1\n",
      "The reconstruction error for distributed, single, and pooled are [0.08788421 0.09336189 0.09336189], respectively.\n",
      "Begin repetitions for L=3\n",
      "The reconstruction error for distributed, single, and pooled are [0.08354425 0.09380574 0.08800308], respectively.\n",
      "Begin repetitions for L=5\n",
      "The reconstruction error for distributed, single, and pooled are [0.08270035 0.09359923 0.0871109 ], respectively.\n",
      "Begin repetitions for L=7\n",
      "The reconstruction error for distributed, single, and pooled are [0.08207529 0.09303768 0.08637671], respectively.\n",
      "Begin repetitions for L=9\n",
      "The reconstruction error for distributed, single, and pooled are [0.08237091 0.09378335 0.08658349], respectively.\n",
      "Begin repetitions for L=11\n",
      "The reconstruction error for distributed, single, and pooled are [0.08212141 0.09346168 0.08631703], respectively.\n",
      "Begin repetitions for L=13\n",
      "The reconstruction error for distributed, single, and pooled are [0.08188944 0.09351939 0.08603918], respectively.\n",
      "Begin repetitions for L=15\n",
      "The reconstruction error for distributed, single, and pooled are [0.08171876 0.09310333 0.08587218], respectively.\n"
     ]
    }
   ],
   "source": [
    "res_estimated_r = real_data(PTC_FM_list, L_seq=np.arange(1, 16, 2), test_size=100, rank=ranks_U, reps=200, seed=1)"
   ]
  },
  {
   "cell_type": "code",
   "execution_count": 8,
   "metadata": {},
   "outputs": [
    {
     "data": {
      "image/png": "[encoded data removed]",
      "text/plain": [
       "<Figure size 640x480 with 1 Axes>"
      ]
     },
     "metadata": {},
     "output_type": "display_data"
    }
   ],
   "source": [
    "# Plot the results\n",
    "plt.rc('text', usetex=True)\n",
    "plt.rc('font', family='serif')\n",
    "plt.rcParams.update({'font.size': 18})\n",
    "\n",
    "res = res_estimated_r\n",
    "ms = 5\n",
    "lw = 1.15\n",
    "L_seq = np.arange(1, 16, 2)\n",
    "start = 0\n",
    "plt.plot(L_seq[start:], res[start:, 0], linewidth=lw, marker='o', linestyle='-', markersize=ms, label=\"distributed\", color=\"blue\")\n",
    "plt.plot(L_seq[start:], res[start:, 2], linewidth=lw, marker='s', linestyle='-', markersize=ms, label=\"pooled\", color=\"red\")\n",
    "plt.plot(L_seq[start:], res[start:, 1], linewidth=lw, marker='^', linestyle='-', markersize=ms, label=\"single\", color=\"green\")\n",
    "\n",
    "plt.legend(loc='upper right', fontsize=12)\n",
    "plt.xlabel(\"Number of Tensors $L$\")\n",
    "plt.ylabel(\"Reconstruction Error\")\n",
    "plt.ylim(0.08, 0.1)\n",
    "plt.grid(True)\n",
    "#plt.yscale(\"log\")\n",
    "#plt.savefig(f\"PTC_FM.png\", bbox_inches='tight', dpi=150)\n",
    "plt.show()"
   ]
  }
 ],
 "metadata": {
  "kernelspec": {
   "display_name": "Python 3",
   "language": "python",
   "name": "python3"
  },
  "language_info": {
   "codemirror_mode": {
    "name": "ipython",
    "version": 3
   },
   "file_extension": ".py",
   "mimetype": "text/x-python",
   "name": "python",
   "nbconvert_exporter": "python",
   "pygments_lexer": "ipython3",
   "version": "3.12.1"
  }
 },
 "nbformat": 4,
 "nbformat_minor": 2
}
